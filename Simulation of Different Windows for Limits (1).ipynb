{
  "metadata": {
    "kernelspec": {
      "name": "python",
      "display_name": "Python (Pyodide)",
      "language": "python"
    },
    "language_info": {
      "codemirror_mode": {
        "name": "python",
        "version": 3
      },
      "file_extension": ".py",
      "mimetype": "text/x-python",
      "name": "python",
      "nbconvert_exporter": "python",
      "pygments_lexer": "ipython3",
      "version": "3.8"
    }
  },
  "nbformat_minor": 4,
  "nbformat": 4,
  "cells": [
    {
      "cell_type": "code",
      "source": "!pip install numpy\n",
      "metadata": {
        "trusted": true
      },
      "outputs": [],
      "execution_count": null
    },
    {
      "cell_type": "code",
      "source": "import numpy as np\n\n# Define number of data points, number of loops, and window sizes\nnum_points = 30\nnum_loops = 1000000\nwindow_sizes = [5, 10, 15, 20, 25, num_points]  # List of window sizes for averaging\n\n# Initialize variables to store results\nall_average_amr = []\n\n# Loop for n iterations\nfor _ in range(num_loops):\n  # Generate random data with normal distribution\n  data = np.random.normal(loc=0, scale=1, size=num_points)\n\n  # Calculate absolute moving range (AMR) for all window sizes\n  average_amr_per_window = []\n  for window in window_sizes:\n    absolute_moving_range = []\n    for i in range(1, window):\n      # Absolute difference between consecutive data points\n      difference = abs(data[i] - data[i-1])\n      absolute_moving_range.append(difference)\n    # Calculate average AMR for the current window\n    average_amr_per_window.append(np.mean(absolute_moving_range) if absolute_moving_range else 0)\n\n  # Store all average AMRs for this loop\n  all_average_amr.append(average_amr_per_window)\n\n# Calculate overall average and standard deviation AMR across all loops for each window size\naverage_of_average_amr_per_window = []\nstd_dev_of_average_amr_per_window = []\nfor window_index in range(len(window_sizes)):\n  window_average_amr = []\n  for loop_data in all_average_amr:\n    window_average_amr.append(loop_data[window_index])\n  average_of_average_amr_per_window.append(np.mean(window_average_amr))\n  std_dev_of_average_amr_per_window.append(np.std(window_average_amr))\n\n# Print results\nprint(\"Window Size\\tAverage of Average Absolute Moving Range\\tStandard Deviation\")\nprint(\"---------------------------------------------------------------------\")\nfor i, window in enumerate(window_sizes):\n  print(window, \"\\t\\t\", average_of_average_amr_per_window[i], \"\\t\\t\\t\", std_dev_of_average_amr_per_window[i])\n",
      "metadata": {
        "trusted": true
      },
      "outputs": [
        {
          "name": "stdout",
          "text": "Window Size\tAverage of Average Absolute Moving Range\tStandard Deviation\n---------------------------------------------------------------------\n5 \t\t 1.128451609413038 \t\t\t 0.492669034560143\n10 \t\t 1.128315956101226 \t\t\t 0.33624962300032596\n15 \t\t 1.1284079284090596 \t\t\t 0.2711211888700908\n20 \t\t 1.128464645632382 \t\t\t 0.23340591261660817\n25 \t\t 1.128517718209269 \t\t\t 0.20808997502501653\n30 \t\t 1.1285435093022338 \t\t\t 0.18962501750748662\n",
          "output_type": "stream"
        }
      ],
      "execution_count": 4
    },
    {
      "cell_type": "code",
      "source": "",
      "metadata": {
        "trusted": true
      },
      "outputs": [],
      "execution_count": null
    }
  ]
}
